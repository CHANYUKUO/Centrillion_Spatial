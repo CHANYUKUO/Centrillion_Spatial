{
 "cells": [
  {
   "cell_type": "markdown",
   "id": "b294ae58-7b52-4c7f-abac-70038250123b",
   "metadata": {
    "jp-MarkdownHeadingCollapsed": true
   },
   "source": [
    "# Preprocessing"
   ]
  },
  {
   "cell_type": "code",
   "execution_count": 1,
   "id": "66632a98-63a3-49a7-b1e5-a5dc2b47f763",
   "metadata": {},
   "outputs": [
    {
     "name": "stdout",
     "output_type": "stream",
     "text": [
      "The history saving thread hit an unexpected error (OperationalError('attempt to write a readonly database')).History will not be written to the database.\n"
     ]
    }
   ],
   "source": [
    "import torch\n",
    "import torch.nn as nn\n",
    "import torch.optim as optim\n",
    "from torch.utils.data import Dataset, DataLoader, random_split\n",
    "import numpy as np\n",
    "import matplotlib.pyplot as plt\n",
    "import os,gzip\n",
    "from scipy import signal\n",
    "import pandas as pd\n",
    "from tqdm import tqdm"
   ]
  },
  {
   "cell_type": "markdown",
   "id": "15942f1d-08cf-4e9f-ae93-56b9cb2f093f",
   "metadata": {},
   "source": [
    "## **Formating Files** ##\n",
    "\n",
    "Formatting Files in to Numpy lists\n",
    "\n",
    "Finding matching Thresholds"
   ]
  },
  {
   "cell_type": "code",
   "execution_count": 2,
   "id": "cecb9725-e291-4cbb-b970-96421c811636",
   "metadata": {},
   "outputs": [
    {
     "name": "stderr",
     "output_type": "stream",
     "text": [
      "100%|████████████████████████████████████████████████████████████████████████████████████| 80/80 [02:01<00:00,  1.52s/it]\n"
     ]
    },
    {
     "name": "stdout",
     "output_type": "stream",
     "text": [
      "80 matrix have Threshold\n",
      "0 matrix have no Threshold\n",
      "Check mtx_no_th for detailed list of matrix unlabeled\n",
      "(78,)\n"
     ]
    }
   ],
   "source": [
    "start_position=0\n",
    "end_position=80\n",
    "mtx_list = [x for x in os.listdir() if x.endswith('.npy.gz')][start_position:end_position]\n",
    "thresholds=[]\n",
    "\n",
    "img_list=[]\n",
    "mtx_no_th=[]\n",
    "#Check threshold file\n",
    "if os.path.exists('threshold.csv'):\n",
    "    df = pd.read_csv('threshold.csv')\n",
    "else:\n",
    "    raise ValueError('No threshold.csv file')\n",
    "\n",
    "for i in tqdm(range(len(mtx_list))):\n",
    "    mtx_name=mtx_list[i]\n",
    "    if mtx_name in df.name.values:\n",
    "        if df[df.name.values==mtx_name].threshold.item()>0:\n",
    "            with gzip.GzipFile(mtx_name, 'rb') as f:\n",
    "                mtx=np.load(f)\n",
    "                kernel = np.outer(signal.windows.gaussian(100, 25),\n",
    "                          signal.windows.gaussian(100, 25))\n",
    "                convolv_matrix = signal.fftconvolve(mtx, kernel, mode='same')\n",
    "                convolv_matrix = convolv_matrix / convolv_matrix.max()\n",
    "                convolv_matrix[convolv_matrix<0]=0 # assign 0 to value smaller than 0\n",
    "                img_list.append(convolv_matrix)\n",
    "                thresholds.append(df[df.name.values==mtx_name].threshold.item())\n",
    "    else: \n",
    "            mtx_no_th.append(mtx_name)  \n",
    "\n",
    "mtx_with_th = [x for x in mtx_list if x not in mtx_no_th]\n",
    "\n",
    "print(str(len(mtx_with_th))+' matrix have Threshold')\n",
    "print(str(len(mtx_no_th))+' matrix have no Threshold')\n",
    "print('Check mtx_no_th for detailed list of matrix unlabeled')\n",
    "\n",
    "# Change image list to Numpy\n",
    "images=np.stack(img_list)\n",
    "\n",
    "# Getting thresholds\n",
    "thresholds=np.array(thresholds)\n",
    "print(thresholds.shape)"
   ]
  },
  {
   "cell_type": "markdown",
   "id": "d4252bad-8981-49ee-9b70-537d49627132",
   "metadata": {},
   "source": [
    "## **Threshold Sanity Check** ##\n"
   ]
  },
  {
   "cell_type": "code",
   "execution_count": 3,
   "id": "c8d97c6e-9b26-42f3-a63c-a092451d137b",
   "metadata": {},
   "outputs": [
    {
     "name": "stdout",
     "output_type": "stream",
     "text": [
      "0.075\n",
      "NoEEL_240605_2r-5G_mtx.npy.gz\n",
      "[ True]\n"
     ]
    }
   ],
   "source": [
    "#Sanity check\n",
    "id=66\n",
    "print(thresholds[id])\n",
    "print(mtx_with_th[id])\n",
    "print(thresholds[id]==df[df['name']==mtx_with_th[id]].threshold.values)"
   ]
  },
  {
   "cell_type": "markdown",
   "id": "fa240b25-d602-4441-8ded-7756a64e5ec7",
   "metadata": {},
   "source": [
    "# Model Prep"
   ]
  },
  {
   "cell_type": "markdown",
   "id": "4cec215f-2733-4fba-a2c9-a4f0ff2483ed",
   "metadata": {},
   "source": [
    "## **Define Dataset** ##"
   ]
  },
  {
   "cell_type": "code",
   "execution_count": 4,
   "id": "67acfc7c-5125-4438-af0f-141242141c3c",
   "metadata": {},
   "outputs": [],
   "source": [
    "# Define a custom dataset\n",
    "class ImageThresholdDataset(Dataset):\n",
    "    def __init__(self, images, thresholds):\n",
    "        self.images = images\n",
    "        self.thresholds = thresholds\n",
    "    \n",
    "    def __len__(self):\n",
    "        return len(self.images)\n",
    "    \n",
    "    def __getitem__(self, idx):\n",
    "        image = self.images[idx]\n",
    "        threshold = self.thresholds[idx]\n",
    "        return torch.tensor(image, dtype=torch.float32).unsqueeze(0), torch.tensor(threshold, dtype=torch.float32)\n"
   ]
  },
  {
   "cell_type": "markdown",
   "id": "9805c0ec-b84f-4b29-a129-c7b97fe42bc9",
   "metadata": {},
   "source": [
    "## **Define Model (Basic CNN)** ##"
   ]
  },
  {
   "cell_type": "code",
   "execution_count": 5,
   "id": "637d311b-a09b-48e1-9635-00171ccbdb61",
   "metadata": {},
   "outputs": [],
   "source": [
    "\n",
    "# Define the CNN model\n",
    "class ThresholdPredictorCNN(nn.Module):\n",
    "    def __init__(self):\n",
    "        super(ThresholdPredictorCNN, self).__init__()\n",
    "        self.conv1 = nn.Conv2d(1, 32, kernel_size=3, padding=1)\n",
    "        self.pool = nn.MaxPool2d(kernel_size=4, stride=4) ## Just to speed up, harsh pooling \n",
    "        self.conv2 = nn.Conv2d(32, 64, kernel_size=3, padding=1)\n",
    "        self.conv3= nn.Conv2d(64,128,kernel_size=3,padding=1)\n",
    "        self.fc1 = nn.Linear(128 * (images.shape[1] // 64) * (images.shape[2] // 64), 64)\n",
    "        self.fc2 = nn.Linear(64, 1)\n",
    "\n",
    "\n",
    "    def forward(self, x):\n",
    "        x = self.pool(torch.relu(self.conv1(x)))\n",
    "        x = self.pool(torch.relu(self.conv2(x)))\n",
    "        x = self.pool(torch.relu(self.conv3(x)))\n",
    "        x = x.view(-1, 128 * (images.shape[1] // 64) * (images.shape[2] // 64))\n",
    "        x = torch.relu(self.fc1(x))\n",
    "        x =  torch.div(0.5, (1+torch.exp(-self.fc2(x))))\n",
    "        return x\n",
    "\n",
    "model = ThresholdPredictorCNN()\n"
   ]
  },
  {
   "cell_type": "code",
   "execution_count": 6,
   "id": "ec8cc03a-713f-4543-9eb3-94a4b174c977",
   "metadata": {},
   "outputs": [],
   "source": [
    "class ThresholdLoss(nn.Module):\n",
    "    def __init__(self):\n",
    "        super(ThresholdLoss, self).__init__()\n",
    "        \n",
    "    def forward(self, y_true, y_pred):\n",
    "        intersection = torch.sum(y_true * y_pred, dim=[1, 2, 3])\n",
    "        union = torch.sum(y_true, dim=[1, 2, 3]) + torch.sum(y_pred, dim=[1, 2, 3]) - intersection\n",
    "        iou = intersection / (union + 1e-6)\n",
    "        loss = 1 - iou.mean()\n",
    "        \n",
    "        return loss"
   ]
  },
  {
   "cell_type": "markdown",
   "id": "920fa16f-8053-4ffb-9afd-855ad2c6742a",
   "metadata": {
    "jp-MarkdownHeadingCollapsed": true
   },
   "source": [
    "# Train Model\n"
   ]
  },
  {
   "cell_type": "markdown",
   "id": "d0bc0ad2-2cd2-448b-93ea-3336f01ea8c6",
   "metadata": {},
   "source": [
    "## In case Training stop in the middle: Load model here "
   ]
  },
  {
   "cell_type": "code",
   "execution_count": null,
   "id": "5863e045-4323-4537-9917-6479b6ad8eee",
   "metadata": {
    "jp-MarkdownHeadingCollapsed": true
   },
   "outputs": [],
   "source": [
    "\n",
    "model.load_state_dict(torch.load('Best_CNNModel_NoNegative.pth'))\n",
    "# Trained 2 times using reshuffled datasets. "
   ]
  },
  {
   "cell_type": "markdown",
   "id": "490f0ac1-407c-40b2-9434-39c2d03ecc5e",
   "metadata": {},
   "source": [
    "## Run This Code Block Twice to Shuffle and train for best Model"
   ]
  },
  {
   "cell_type": "code",
   "execution_count": 9,
   "id": "8515a0e0-47c5-49ec-bff9-86fb0673132f",
   "metadata": {
    "scrolled": true
   },
   "outputs": [
    {
     "name": "stderr",
     "output_type": "stream",
     "text": [
      "  0%|                                                                                             | 0/20 [00:00<?, ?it/s]"
     ]
    },
    {
     "name": "stdout",
     "output_type": "stream",
     "text": [
      "tensor([[0.1588],\n",
      "        [0.0824],\n",
      "        [0.1266],\n",
      "        [0.2075],\n",
      "        [0.0716],\n",
      "        [0.1620],\n",
      "        [0.1915],\n",
      "        [0.0758],\n",
      "        [0.1400],\n",
      "        [0.1000]], grad_fn=<SliceBackward0>)\n",
      "tensor([[0.2575],\n",
      "        [0.2575],\n",
      "        [0.2575],\n",
      "        [0.1805],\n",
      "        [0.2290],\n",
      "        [0.1746],\n",
      "        [0.2217],\n",
      "        [0.1861],\n",
      "        [0.1758],\n",
      "        [0.1662]], grad_fn=<SliceBackward0>)\n"
     ]
    },
    {
     "name": "stderr",
     "output_type": "stream",
     "text": [
      "  5%|████                                                                              | 1/20 [05:40<1:47:48, 340.44s/it]"
     ]
    },
    {
     "name": "stdout",
     "output_type": "stream",
     "text": [
      "Epoch 1/20, Train Loss: 0.1433, Val Loss: 0.0856\n",
      "tensor([[0.1055],\n",
      "        [0.1839],\n",
      "        [0.1123],\n",
      "        [0.0927],\n",
      "        [0.1205],\n",
      "        [0.1711],\n",
      "        [0.0449],\n",
      "        [0.1103],\n",
      "        [0.1315],\n",
      "        [0.1596]], grad_fn=<SliceBackward0>)\n",
      "tensor([[0.1460],\n",
      "        [0.1123],\n",
      "        [0.1065],\n",
      "        [0.0548],\n",
      "        [0.1137],\n",
      "        [0.1039],\n",
      "        [0.1256],\n",
      "        [0.0748],\n",
      "        [0.0806],\n",
      "        [0.0720]], grad_fn=<SliceBackward0>)\n"
     ]
    },
    {
     "name": "stderr",
     "output_type": "stream",
     "text": [
      " 10%|████████▏                                                                         | 2/20 [12:02<1:49:25, 364.77s/it]"
     ]
    },
    {
     "name": "stdout",
     "output_type": "stream",
     "text": [
      "Epoch 2/20, Train Loss: 0.0925, Val Loss: 0.1361\n",
      "tensor([[0.0614],\n",
      "        [0.0544],\n",
      "        [0.0815],\n",
      "        [0.0487],\n",
      "        [0.0387],\n",
      "        [0.0955],\n",
      "        [0.0426],\n",
      "        [0.0890],\n",
      "        [0.1045],\n",
      "        [0.1131]], grad_fn=<SliceBackward0>)\n",
      "tensor([[0.0940],\n",
      "        [0.1088],\n",
      "        [0.0604],\n",
      "        [0.0447],\n",
      "        [0.0483],\n",
      "        [0.0418],\n",
      "        [0.0666],\n",
      "        [0.1090],\n",
      "        [0.0745],\n",
      "        [0.0525]], grad_fn=<SliceBackward0>)\n"
     ]
    },
    {
     "name": "stderr",
     "output_type": "stream",
     "text": [
      " 15%|████████████▎                                                                     | 3/20 [17:41<1:40:00, 353.00s/it]"
     ]
    },
    {
     "name": "stdout",
     "output_type": "stream",
     "text": [
      "Epoch 3/20, Train Loss: 0.1339, Val Loss: 0.1431\n",
      "tensor([[0.0380],\n",
      "        [0.1134],\n",
      "        [0.0792],\n",
      "        [0.0557],\n",
      "        [0.1264],\n",
      "        [0.0598],\n",
      "        [0.0778],\n",
      "        [0.0353],\n",
      "        [0.1142],\n",
      "        [0.0578]], grad_fn=<SliceBackward0>)\n",
      "tensor([[0.0901],\n",
      "        [0.0630],\n",
      "        [0.1424],\n",
      "        [0.0681],\n",
      "        [0.0641],\n",
      "        [0.0484],\n",
      "        [0.0632],\n",
      "        [0.1150],\n",
      "        [0.0466],\n",
      "        [0.1245]], grad_fn=<SliceBackward0>)\n"
     ]
    },
    {
     "name": "stderr",
     "output_type": "stream",
     "text": [
      " 20%|████████████████▍                                                                 | 4/20 [23:51<1:36:00, 360.01s/it]"
     ]
    },
    {
     "name": "stdout",
     "output_type": "stream",
     "text": [
      "Epoch 4/20, Train Loss: 0.1211, Val Loss: 0.0653\n",
      "tensor([[0.0562],\n",
      "        [0.0845],\n",
      "        [0.1174],\n",
      "        [0.1095],\n",
      "        [0.0664],\n",
      "        [0.1071],\n",
      "        [0.0778],\n",
      "        [0.1522],\n",
      "        [0.1078],\n",
      "        [0.0366]], grad_fn=<SliceBackward0>)\n",
      "tensor([[0.1273],\n",
      "        [0.1335],\n",
      "        [0.2001],\n",
      "        [0.1444],\n",
      "        [0.0996],\n",
      "        [0.1020],\n",
      "        [0.1779],\n",
      "        [0.1799],\n",
      "        [0.0645],\n",
      "        [0.2108]], grad_fn=<SliceBackward0>)\n"
     ]
    },
    {
     "name": "stderr",
     "output_type": "stream",
     "text": [
      " 25%|████████████████████▌                                                             | 5/20 [29:38<1:28:46, 355.08s/it]"
     ]
    },
    {
     "name": "stdout",
     "output_type": "stream",
     "text": [
      "Epoch 5/20, Train Loss: 0.0504, Val Loss: 0.0663\n",
      "tensor([[0.1199],\n",
      "        [0.2004],\n",
      "        [0.2167],\n",
      "        [0.1112],\n",
      "        [0.1257],\n",
      "        [0.1233],\n",
      "        [0.2179],\n",
      "        [0.1831],\n",
      "        [0.1554],\n",
      "        [0.1279]], grad_fn=<SliceBackward0>)\n",
      "tensor([[0.1268],\n",
      "        [0.1487],\n",
      "        [0.1768],\n",
      "        [0.1264],\n",
      "        [0.1245],\n",
      "        [0.0930],\n",
      "        [0.1802],\n",
      "        [0.1038],\n",
      "        [0.1736],\n",
      "        [0.1544]], grad_fn=<SliceBackward0>)\n"
     ]
    },
    {
     "name": "stderr",
     "output_type": "stream",
     "text": [
      " 30%|████████████████████████▌                                                         | 6/20 [35:20<1:21:48, 350.58s/it]"
     ]
    },
    {
     "name": "stdout",
     "output_type": "stream",
     "text": [
      "Epoch 6/20, Train Loss: 0.0815, Val Loss: 0.0712\n",
      "tensor([[0.1730],\n",
      "        [0.1052],\n",
      "        [0.1560],\n",
      "        [0.1124],\n",
      "        [0.0450],\n",
      "        [0.2137],\n",
      "        [0.1216],\n",
      "        [0.1900],\n",
      "        [0.1470],\n",
      "        [0.1131]], grad_fn=<SliceBackward0>)\n",
      "tensor([[0.1521],\n",
      "        [0.1134],\n",
      "        [0.0696],\n",
      "        [0.0884],\n",
      "        [0.0799],\n",
      "        [0.1181],\n",
      "        [0.1077],\n",
      "        [0.1407],\n",
      "        [0.1075],\n",
      "        [0.1114]], grad_fn=<SliceBackward0>)\n"
     ]
    },
    {
     "name": "stderr",
     "output_type": "stream",
     "text": [
      " 35%|████████████████████████████▋                                                     | 7/20 [40:32<1:13:15, 338.12s/it]"
     ]
    },
    {
     "name": "stdout",
     "output_type": "stream",
     "text": [
      "Epoch 7/20, Train Loss: 0.0609, Val Loss: 0.0334\n",
      "tensor([[0.1612],\n",
      "        [0.1796],\n",
      "        [0.0955],\n",
      "        [0.0880],\n",
      "        [0.1039],\n",
      "        [0.1282],\n",
      "        [0.1139],\n",
      "        [0.0858],\n",
      "        [0.0968],\n",
      "        [0.1491]], grad_fn=<SliceBackward0>)\n",
      "tensor([[0.1190],\n",
      "        [0.1094],\n",
      "        [0.1337],\n",
      "        [0.1495],\n",
      "        [0.0657],\n",
      "        [0.0813],\n",
      "        [0.0998],\n",
      "        [0.0811],\n",
      "        [0.0734],\n",
      "        [0.1026]], grad_fn=<SliceBackward0>)\n"
     ]
    },
    {
     "name": "stderr",
     "output_type": "stream",
     "text": [
      " 40%|████████████████████████████████▊                                                 | 8/20 [45:21<1:04:30, 322.52s/it]"
     ]
    },
    {
     "name": "stdout",
     "output_type": "stream",
     "text": [
      "Epoch 8/20, Train Loss: 0.0541, Val Loss: 0.0706\n",
      "tensor([[0.0772],\n",
      "        [0.0755],\n",
      "        [0.0901],\n",
      "        [0.0865],\n",
      "        [0.0784],\n",
      "        [0.0575],\n",
      "        [0.1046],\n",
      "        [0.0749],\n",
      "        [0.1276],\n",
      "        [0.1577]], grad_fn=<SliceBackward0>)\n",
      "tensor([[0.1475],\n",
      "        [0.0632],\n",
      "        [0.0606],\n",
      "        [0.0619],\n",
      "        [0.0987],\n",
      "        [0.1053],\n",
      "        [0.1043],\n",
      "        [0.1279],\n",
      "        [0.1236],\n",
      "        [0.0704]], grad_fn=<SliceBackward0>)\n"
     ]
    },
    {
     "name": "stderr",
     "output_type": "stream",
     "text": [
      " 45%|█████████████████████████████████████▊                                              | 9/20 [50:13<57:21, 312.89s/it]"
     ]
    },
    {
     "name": "stdout",
     "output_type": "stream",
     "text": [
      "Epoch 9/20, Train Loss: 0.0716, Val Loss: 0.0544\n",
      "tensor([[0.1539],\n",
      "        [0.1630],\n",
      "        [0.0877],\n",
      "        [0.0293],\n",
      "        [0.0958],\n",
      "        [0.0840],\n",
      "        [0.1290],\n",
      "        [0.0735],\n",
      "        [0.0602],\n",
      "        [0.1107]], grad_fn=<SliceBackward0>)\n",
      "tensor([[0.0726],\n",
      "        [0.1613],\n",
      "        [0.1411],\n",
      "        [0.1025],\n",
      "        [0.1877],\n",
      "        [0.0840],\n",
      "        [0.0869],\n",
      "        [0.0939],\n",
      "        [0.1123],\n",
      "        [0.0555]], grad_fn=<SliceBackward0>)\n"
     ]
    },
    {
     "name": "stderr",
     "output_type": "stream",
     "text": [
      " 50%|█████████████████████████████████████████▌                                         | 10/20 [54:59<50:47, 304.72s/it]"
     ]
    },
    {
     "name": "stdout",
     "output_type": "stream",
     "text": [
      "Epoch 10/20, Train Loss: 0.0516, Val Loss: 0.0347\n",
      "tensor([[0.1335],\n",
      "        [0.1016],\n",
      "        [0.1383],\n",
      "        [0.1323],\n",
      "        [0.1741],\n",
      "        [0.1010],\n",
      "        [0.1073],\n",
      "        [0.1160],\n",
      "        [0.1571],\n",
      "        [0.1694]], grad_fn=<SliceBackward0>)\n",
      "tensor([[0.1036],\n",
      "        [0.1594],\n",
      "        [0.1024],\n",
      "        [0.1142],\n",
      "        [0.1054],\n",
      "        [0.1263],\n",
      "        [0.1853],\n",
      "        [0.1355],\n",
      "        [0.1243],\n",
      "        [0.1068]], grad_fn=<SliceBackward0>)\n"
     ]
    },
    {
     "name": "stderr",
     "output_type": "stream",
     "text": [
      " 55%|█████████████████████████████████████████████▋                                     | 11/20 [59:49<44:59, 299.97s/it]"
     ]
    },
    {
     "name": "stdout",
     "output_type": "stream",
     "text": [
      "Epoch 11/20, Train Loss: 0.0432, Val Loss: 0.0546\n",
      "tensor([[0.1651],\n",
      "        [0.0436],\n",
      "        [0.1459],\n",
      "        [0.1537],\n",
      "        [0.0967],\n",
      "        [0.1293],\n",
      "        [0.1628],\n",
      "        [0.1495],\n",
      "        [0.1661],\n",
      "        [0.1169]], grad_fn=<SliceBackward0>)\n",
      "tensor([[0.1115],\n",
      "        [0.1026],\n",
      "        [0.1479],\n",
      "        [0.1001],\n",
      "        [0.1936],\n",
      "        [0.1159],\n",
      "        [0.1915],\n",
      "        [0.2016],\n",
      "        [0.1373],\n",
      "        [0.0977]], grad_fn=<SliceBackward0>)\n"
     ]
    },
    {
     "name": "stderr",
     "output_type": "stream",
     "text": [
      " 60%|████████████████████████████████████████████████▌                                | 12/20 [1:04:34<39:23, 295.43s/it]"
     ]
    },
    {
     "name": "stdout",
     "output_type": "stream",
     "text": [
      "Epoch 12/20, Train Loss: 0.0579, Val Loss: 0.0334\n",
      "tensor([[0.1066],\n",
      "        [0.0754],\n",
      "        [0.1234],\n",
      "        [0.1013],\n",
      "        [0.1211],\n",
      "        [0.1055],\n",
      "        [0.1408],\n",
      "        [0.2170],\n",
      "        [0.1513],\n",
      "        [0.0813]], grad_fn=<SliceBackward0>)\n",
      "tensor([[0.0856],\n",
      "        [0.1454],\n",
      "        [0.0949],\n",
      "        [0.0877],\n",
      "        [0.1457],\n",
      "        [0.1698],\n",
      "        [0.0971],\n",
      "        [0.1703],\n",
      "        [0.0906],\n",
      "        [0.0973]], grad_fn=<SliceBackward0>)\n"
     ]
    },
    {
     "name": "stderr",
     "output_type": "stream",
     "text": [
      " 65%|████████████████████████████████████████████████████▋                            | 13/20 [1:09:31<34:31, 295.90s/it]"
     ]
    },
    {
     "name": "stdout",
     "output_type": "stream",
     "text": [
      "Epoch 13/20, Train Loss: 0.0400, Val Loss: 0.0344\n",
      "tensor([[0.0849],\n",
      "        [0.0898],\n",
      "        [0.1058],\n",
      "        [0.0920],\n",
      "        [0.0847],\n",
      "        [0.1717],\n",
      "        [0.0945],\n",
      "        [0.1045],\n",
      "        [0.1132],\n",
      "        [0.0705]], grad_fn=<SliceBackward0>)\n",
      "tensor([[0.0888],\n",
      "        [0.0914],\n",
      "        [0.0684],\n",
      "        [0.1158],\n",
      "        [0.1044],\n",
      "        [0.0420],\n",
      "        [0.1302],\n",
      "        [0.1365],\n",
      "        [0.1197],\n",
      "        [0.1599]], grad_fn=<SliceBackward0>)\n"
     ]
    },
    {
     "name": "stderr",
     "output_type": "stream",
     "text": [
      " 70%|████████████████████████████████████████████████████████▋                        | 14/20 [1:14:18<29:19, 293.31s/it]"
     ]
    },
    {
     "name": "stdout",
     "output_type": "stream",
     "text": [
      "Epoch 14/20, Train Loss: 0.0435, Val Loss: 0.0351\n",
      "tensor([[0.0619],\n",
      "        [0.1177],\n",
      "        [0.0906],\n",
      "        [0.2025],\n",
      "        [0.0895],\n",
      "        [0.0657],\n",
      "        [0.1394],\n",
      "        [0.1225],\n",
      "        [0.0890],\n",
      "        [0.0839]], grad_fn=<SliceBackward0>)\n",
      "tensor([[0.1462],\n",
      "        [0.1194],\n",
      "        [0.1936],\n",
      "        [0.0961],\n",
      "        [0.1300],\n",
      "        [0.1267],\n",
      "        [0.0891],\n",
      "        [0.0518],\n",
      "        [0.0964],\n",
      "        [0.1733]], grad_fn=<SliceBackward0>)\n"
     ]
    },
    {
     "name": "stderr",
     "output_type": "stream",
     "text": [
      " 75%|████████████████████████████████████████████████████████████▊                    | 15/20 [1:19:05<24:16, 291.32s/it]"
     ]
    },
    {
     "name": "stdout",
     "output_type": "stream",
     "text": [
      "Epoch 15/20, Train Loss: 0.0383, Val Loss: 0.0209\n",
      "tensor([[0.1886],\n",
      "        [0.1548],\n",
      "        [0.0701],\n",
      "        [0.1048],\n",
      "        [0.0822],\n",
      "        [0.0330],\n",
      "        [0.0955],\n",
      "        [0.1001],\n",
      "        [0.0652],\n",
      "        [0.1198]], grad_fn=<SliceBackward0>)\n",
      "tensor([[0.0781],\n",
      "        [0.1631],\n",
      "        [0.1329],\n",
      "        [0.1304],\n",
      "        [0.1470],\n",
      "        [0.1237],\n",
      "        [0.0697],\n",
      "        [0.1432],\n",
      "        [0.1084],\n",
      "        [0.2343]], grad_fn=<SliceBackward0>)\n"
     ]
    },
    {
     "name": "stderr",
     "output_type": "stream",
     "text": [
      " 80%|████████████████████████████████████████████████████████████████▊                | 16/20 [1:23:54<19:22, 290.63s/it]"
     ]
    },
    {
     "name": "stdout",
     "output_type": "stream",
     "text": [
      "Epoch 16/20, Train Loss: 0.0317, Val Loss: 0.0338\n",
      "tensor([[0.1923],\n",
      "        [0.1037],\n",
      "        [0.1559],\n",
      "        [0.1460],\n",
      "        [0.2218],\n",
      "        [0.0794],\n",
      "        [0.0896],\n",
      "        [0.1965],\n",
      "        [0.0988],\n",
      "        [0.1591]], grad_fn=<SliceBackward0>)\n",
      "tensor([[0.1433],\n",
      "        [0.0497],\n",
      "        [0.1288],\n",
      "        [0.1312],\n",
      "        [0.1037],\n",
      "        [0.1234],\n",
      "        [0.1077],\n",
      "        [0.0981],\n",
      "        [0.1339],\n",
      "        [0.1893]], grad_fn=<SliceBackward0>)\n"
     ]
    },
    {
     "name": "stderr",
     "output_type": "stream",
     "text": [
      " 85%|████████████████████████████████████████████████████████████████████▊            | 17/20 [1:28:43<14:30, 290.28s/it]"
     ]
    },
    {
     "name": "stdout",
     "output_type": "stream",
     "text": [
      "Epoch 17/20, Train Loss: 0.0360, Val Loss: 0.0205\n",
      "tensor([[0.0975],\n",
      "        [0.0744],\n",
      "        [0.1305],\n",
      "        [0.0928],\n",
      "        [0.0992],\n",
      "        [0.1797],\n",
      "        [0.0630],\n",
      "        [0.0990],\n",
      "        [0.0766],\n",
      "        [0.1237]], grad_fn=<SliceBackward0>)\n",
      "tensor([[0.1696],\n",
      "        [0.1278],\n",
      "        [0.1381],\n",
      "        [0.1534],\n",
      "        [0.1085],\n",
      "        [0.1825],\n",
      "        [0.1183],\n",
      "        [0.2179],\n",
      "        [0.0843],\n",
      "        [0.1383]], grad_fn=<SliceBackward0>)\n"
     ]
    },
    {
     "name": "stderr",
     "output_type": "stream",
     "text": [
      " 90%|████████████████████████████████████████████████████████████████████████▉        | 18/20 [1:33:27<09:36, 288.25s/it]"
     ]
    },
    {
     "name": "stdout",
     "output_type": "stream",
     "text": [
      "Epoch 18/20, Train Loss: 0.0302, Val Loss: 0.0282\n",
      "tensor([[0.0951],\n",
      "        [0.1685],\n",
      "        [0.0946],\n",
      "        [0.1535],\n",
      "        [0.1746],\n",
      "        [0.1536],\n",
      "        [0.0656],\n",
      "        [0.1837],\n",
      "        [0.1285],\n",
      "        [0.0839]], grad_fn=<SliceBackward0>)\n",
      "tensor([[0.0612],\n",
      "        [0.1234],\n",
      "        [0.0866],\n",
      "        [0.1254],\n",
      "        [0.1424],\n",
      "        [0.1284],\n",
      "        [0.0645],\n",
      "        [0.1746],\n",
      "        [0.0895],\n",
      "        [0.0966]], grad_fn=<SliceBackward0>)\n"
     ]
    },
    {
     "name": "stderr",
     "output_type": "stream",
     "text": [
      " 95%|████████████████████████████████████████████████████████████████████████████▉    | 19/20 [1:38:15<04:48, 288.16s/it]"
     ]
    },
    {
     "name": "stdout",
     "output_type": "stream",
     "text": [
      "Epoch 19/20, Train Loss: 0.0300, Val Loss: 0.0176\n",
      "tensor([[0.1246],\n",
      "        [0.1205],\n",
      "        [0.1363],\n",
      "        [0.1325],\n",
      "        [0.1874],\n",
      "        [0.0905],\n",
      "        [0.1980],\n",
      "        [0.1850],\n",
      "        [0.0817],\n",
      "        [0.1149]], grad_fn=<SliceBackward0>)\n",
      "tensor([[0.1030],\n",
      "        [0.1700],\n",
      "        [0.0824],\n",
      "        [0.1249],\n",
      "        [0.1692],\n",
      "        [0.2335],\n",
      "        [0.1047],\n",
      "        [0.1266],\n",
      "        [0.1565],\n",
      "        [0.0868]], grad_fn=<SliceBackward0>)\n"
     ]
    },
    {
     "name": "stderr",
     "output_type": "stream",
     "text": [
      "100%|█████████████████████████████████████████████████████████████████████████████████| 20/20 [1:43:01<00:00, 309.07s/it]"
     ]
    },
    {
     "name": "stdout",
     "output_type": "stream",
     "text": [
      "Epoch 20/20, Train Loss: 0.0238, Val Loss: 0.0202\n"
     ]
    },
    {
     "name": "stderr",
     "output_type": "stream",
     "text": [
      "\n"
     ]
    },
    {
     "data": {
      "image/png": "[encoded data removed]",
      "text/plain": [
       "<Figure size 640x480 with 1 Axes>"
      ]
     },
     "metadata": {},
     "output_type": "display_data"
    }
   ],
   "source": [
    "# Create dataset and data loaders\n",
    "dataset = ImageThresholdDataset(images,thresholds)\n",
    "train_size = int(0.8 * len(dataset))\n",
    "val_size = len(dataset) - train_size\n",
    "train_dataset, val_dataset = random_split(dataset, [train_size, val_size])\n",
    "\n",
    "train_loader = DataLoader(train_dataset, batch_size=35, shuffle=True)\n",
    "val_loader = DataLoader(val_dataset, batch_size=35, shuffle=False)\n",
    "\n",
    "# Define the loss function and optimizer\n",
    "criterion = ThresholdLoss()\n",
    "optimizer = optim.Adam(model.parameters(), lr=0.0001)\n",
    "\n",
    "# Training the model\n",
    "num_epochs = 20 ## faster\n",
    "best_val_loss = float('inf')\n",
    "\n",
    "train_losses = []\n",
    "val_losses = []\n",
    "\n",
    "for epoch in tqdm(range(num_epochs)):\n",
    "    model.train()\n",
    "    train_loss = 0.0\n",
    "    for X, Y in train_loader:\n",
    "        optimizer.zero_grad()\n",
    "        outputs = model(X)\n",
    "        print(outputs[0:10])\n",
    "        msk_true=(X>Y.view(-1,1,1,1)).float()\n",
    "        msk_pred=nn.Sigmoid()((X-outputs.view(-1,1,1,1))*1e6)\n",
    "        loss = criterion(msk_true,msk_pred)\n",
    "        loss.backward()\n",
    "        optimizer.step()\n",
    "        train_loss += loss.item() * X.size(0)\n",
    "    \n",
    "    train_loss /= len(train_loader.dataset)\n",
    "    train_losses.append(train_loss)\n",
    "    \n",
    "    model.eval()\n",
    "    val_loss = 0.0\n",
    "    with torch.no_grad():\n",
    "        for X, Y in val_loader:\n",
    "            outputs = model(X)\n",
    "            msk_true=(X>Y.view(-1,1,1,1)).float()\n",
    "            msk_pred=nn.Sigmoid()((X-outputs.view(-1,1,1,1))*1e6)\n",
    "            loss = criterion(msk_true,msk_pred)\n",
    "            val_loss += loss.item() * X.size(0)\n",
    "    \n",
    "    val_loss /= len(val_loader.dataset)\n",
    "    val_losses.append(val_loss)\n",
    "    \n",
    "    if val_loss < best_val_loss:\n",
    "        best_val_loss = val_loss\n",
    "        torch.save(model.state_dict(), 'Best_CNNModel_NoNegative.pth') #Saving the model\n",
    "    \n",
    "    print(f'Epoch {epoch+1}/{num_epochs}, Train Loss: {train_loss:.4f}, Val Loss: {val_loss:.4f}')\n",
    "\n",
    "# Plot training history\n",
    "plt.plot(train_losses, label='Train Loss')\n",
    "plt.plot(val_losses, label='Val Loss')\n",
    "plt.xlabel('Epoch')\n",
    "plt.ylabel('Loss')\n",
    "plt.legend()\n",
    "plt.show()\n"
   ]
  }
 ],
 "metadata": {
  "kernelspec": {
   "display_name": "Python 3 (ipykernel)",
   "language": "python",
   "name": "python3"
  },
  "language_info": {
   "codemirror_mode": {
    "name": "ipython",
    "version": 3
   },
   "file_extension": ".py",
   "mimetype": "text/x-python",
   "name": "python",
   "nbconvert_exporter": "python",
   "pygments_lexer": "ipython3",
   "version": "3.10.12"
  }
 },
 "nbformat": 4,
 "nbformat_minor": 5
}
